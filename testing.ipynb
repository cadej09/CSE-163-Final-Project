{
 "cells": [
  {
   "cell_type": "code",
   "execution_count": 131,
   "metadata": {},
   "outputs": [],
   "source": [
    "import pandas as pd\n",
    "from data_cleaning import merge_data\n",
    "\n",
    "merged_df = merge_data()"
   ]
  },
  {
   "cell_type": "code",
   "execution_count": 132,
   "metadata": {},
   "outputs": [
    {
     "name": "stdout",
     "output_type": "stream",
     "text": [
      "Test  Accuracy: 0.5807050092764379\n"
     ]
    }
   ],
   "source": [
    "from sklearn.metrics import accuracy_score\n",
    "from sklearn.model_selection import train_test_split\n",
    "from sklearn import tree\n",
    "\n",
    "data = merged_df[['Age', 'Country', 'self_employed', 'family_history', 'no_employees', 'tech_company', 'wellness_program', 'treatment']].dropna()\n",
    "features = data.loc[:, data.columns != 'treatment']\n",
    "features = pd.get_dummies(features)\n",
    "labels = data['treatment']\n",
    "\n",
    "X_train, X_test, Y_train, Y_test = \\\n",
    "    train_test_split(features, labels, test_size=0.2)\n",
    "    \n",
    "clf = tree.DecisionTreeClassifier()\n",
    "clf.fit(X_train, Y_train)\n",
    "\n",
    "# Print accuracy\n",
    "test_predictions = clf.predict(X_test)\n",
    "print('Test  Accuracy:', accuracy_score(Y_test, test_predictions))\n"
   ]
  },
  {
   "cell_type": "code",
   "execution_count": 133,
   "metadata": {},
   "outputs": [
    {
     "name": "stdout",
     "output_type": "stream",
     "text": [
      "Test  Accuracy: 0.6697588126159555\n"
     ]
    }
   ],
   "source": [
    "# Create an untrained model\n",
    "short_clf = tree.DecisionTreeClassifier(max_depth=6)\n",
    "\n",
    "# Train it on the **training set**\n",
    "short_clf.fit(X_train, Y_train)\n",
    "\n",
    "# Print accuracy\n",
    "test_predictions = short_clf.predict(X_test)\n",
    "print('Test  Accuracy:', accuracy_score(Y_test, test_predictions))"
   ]
  },
  {
   "cell_type": "code",
   "execution_count": 134,
   "metadata": {},
   "outputs": [],
   "source": [
    "from IPython.display import Image, display\n",
    "\n",
    "import graphviz \n",
    "from sklearn.tree import export_graphviz\n",
    "\n",
    "\n",
    "def plot_tree(model, features, labels):\n",
    "    dot_data = export_graphviz(model, out_file=None, \n",
    "            feature_names=features.columns,  \n",
    "            class_names=labels.unique(),\n",
    "            impurity=False,\n",
    "            filled=True, rounded=True,  \n",
    "            special_characters=True) \n",
    "    graphviz.Source(dot_data).render('tree.gv', format='png')\n",
    "    display(Image(filename='tree.gv.png'))\n",
    "\n",
    "# Import \n",
    "plot_tree(short_clf, X_train, Y_train)\n"
   ]
  }
 ],
 "metadata": {
  "kernelspec": {
   "display_name": "cse163",
   "language": "python",
   "name": "python3"
  },
  "language_info": {
   "codemirror_mode": {
    "name": "ipython",
    "version": 3
   },
   "file_extension": ".py",
   "mimetype": "text/x-python",
   "name": "python",
   "nbconvert_exporter": "python",
   "pygments_lexer": "ipython3",
   "version": "3.9.16"
  },
  "orig_nbformat": 4
 },
 "nbformat": 4,
 "nbformat_minor": 2
}
