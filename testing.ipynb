{
 "cells": [
  {
   "cell_type": "code",
   "execution_count": 266,
   "metadata": {},
   "outputs": [],
   "source": [
    "from sklearn.model_selection import train_test_split, cross_val_score\n",
    "from sklearn.metrics import accuracy_score\n",
    "from sklearn.ensemble import RandomForestClassifier\n",
    "from data_cleaning import merge_data\n",
    "import pandas as pd\n",
    "import numpy as np"
   ]
  },
  {
   "cell_type": "code",
   "execution_count": 267,
   "metadata": {},
   "outputs": [],
   "source": [
    "df = merge_data()\n",
    "data = df[['Age', 'self_employed', 'family_history',\n",
    "               'no_employees', 'tech_company', 'wellness_program',\n",
    "               'treatment']].dropna()\n",
    "features = data.loc[:, data.columns != 'treatment']\n",
    "features = pd.get_dummies(features)\n",
    "labels = data['treatment']"
   ]
  },
  {
   "cell_type": "code",
   "execution_count": 268,
   "metadata": {},
   "outputs": [
    {
     "name": "stdout",
     "output_type": "stream",
     "text": [
      "Test Accuracy: 0.6175742574257426\n",
      "Cross-Validation Accuracy: 0.6257795311433123\n"
     ]
    }
   ],
   "source": [
    "# Split the data into training and testing sets\n",
    "X_train, X_test, Y_train, Y_test = train_test_split(features, labels,\n",
    "                                                    test_size=0.3,\n",
    "                                                    random_state=42)\n",
    "\n",
    "# Fit a random forest model with 500 trees\n",
    "rfc = RandomForestClassifier(n_estimators=500, random_state=42)\n",
    "rfc.fit(X_train, Y_train)\n",
    "\n",
    "# Evaluate the model on the testing data\n",
    "test_predictions = rfc.predict(X_test)\n",
    "test_accuracy = accuracy_score(Y_test, test_predictions)\n",
    "print('Test Accuracy:', test_accuracy)\n",
    "\n",
    "# Use cross-validation to evaluate the model\n",
    "scores = cross_val_score(rfc, features, labels, cv=5)\n",
    "cv_accuracy = np.mean(scores)\n",
    "print('Cross-Validation Accuracy:', cv_accuracy)\n",
    "\n",
    "# Print feature importances\n",
    "importances = rfc.feature_importances_\n",
    "std = np.std([tree.feature_importances_ for tree in rfc.estimators_],\n",
    "                axis=0)\n",
    "indices = np.argsort(importances)[::-1]\n",
    "\n",
    "# Write the output to a text file\n",
    "with open('random_forest_results.txt', 'w') as f:\n",
    "    # Write test accuracy to file\n",
    "    f.write('Test Accuracy: ' + str(test_accuracy) + '\\n\\n')\n",
    "\n",
    "    # Write cross-validation accuracy to file\n",
    "    f.write('Cross-Validation Accuracy: ' + str(cv_accuracy) + '\\n\\n')\n",
    "\n",
    "    # Write feature ranking to file\n",
    "    f.write('Feature Ranking:\\n')\n",
    "    for i in range(X_train.shape[1]):\n",
    "        feature_name = X_train.columns[indices[i]]\n",
    "        importance = importances[indices[i]]\n",
    "        rank_str = f'{i+1}. {feature_name} ({importance:.4f})\\n'\n",
    "        f.write(rank_str)"
   ]
  }
 ],
 "metadata": {
  "kernelspec": {
   "display_name": "cse163",
   "language": "python",
   "name": "python3"
  },
  "language_info": {
   "codemirror_mode": {
    "name": "ipython",
    "version": 3
   },
   "file_extension": ".py",
   "mimetype": "text/x-python",
   "name": "python",
   "nbconvert_exporter": "python",
   "pygments_lexer": "ipython3",
   "version": "3.9.16"
  },
  "orig_nbformat": 4
 },
 "nbformat": 4,
 "nbformat_minor": 2
}
