{
 "cells": [
  {
   "cell_type": "code",
   "execution_count": 1,
   "metadata": {},
   "outputs": [],
   "source": [
    "def merge_data():\n",
    "    \"\"\"_summary_\n",
    "\n",
    "    Returns:\n",
    "        _type_: _description_\n",
    "    \"\"\"\n",
    "    # Cleaning 2014 dataset.\n",
    "    df_2014 = pd.read_csv('data/survey_14.csv')\n",
    "\n",
    "    df_2014 = df_2014.loc[:, 'Age':].drop(columns=['Gender', 'remote_work',\n",
    "                                                   'comments', 'mental_health_'\n",
    "                                                   'consequence',\n",
    "                                                   'phys_health_consequence',\n",
    "                                                   'mental_vs_physical',\n",
    "                                                   'obs_consequence'])\n",
    "\n",
    "    # Match the answer/value\n",
    "    df_2014[\"work_interfere\"].fillna('Not applicable to me', inplace=True)\n",
    "    df_2014[['coworkers', 'supervisor']] = (\n",
    "        df_2014[['coworkers', 'supervisor']]\n",
    "        .replace('Some of them', 'Maybe')\n",
    "    )\n",
    "    df_2014[['benefits', 'wellness_program', 'seek_help', 'anonymity']] = (\n",
    "        df_2014[['benefits', 'wellness_program', 'seek_help', 'anonymity']]\n",
    "        .replace(\"Don't know'\", \"I don't know\")\n",
    "    )\n",
    "    df_2014['care_options'] = (\n",
    "        df_2014['care_options'].replace('Not sure', 'I am not sure')\n",
    "    )\n",
    "    df_2014['year'] = 2014\n",
    "\n",
    "    # Cleaning 2016 dataset.\n",
    "    df_2016 = pd.read_csv('data/survey_16.csv')\n",
    "\n",
    "    # Select only shared columns between three datasets.\n",
    "    df_2016 = df_2016[['What is your age?',\n",
    "                       'What country do you live in?',\n",
    "                       'What US state or territory do you live in?',\n",
    "                       'Are you self-employed?',\n",
    "                       'Do you have a family history of mental illness?',\n",
    "                       'Have you ever sought treatment for a mental health '\n",
    "                       'issue from a mental health professional?',\n",
    "                       'If you have a mental health issue, do you feel that '\n",
    "                       'it interferes with your work when '\n",
    "                       'NOT being treated effectively?',\n",
    "                       'How many employees does your '\n",
    "                       'company or organization have?',\n",
    "                       'Is your employer primarily '\n",
    "                       'a tech company/organization?',\n",
    "                       'Does your employer provide mental health benefits '\n",
    "                       'as part of healthcare coverage?',\n",
    "                       'Do you know the options for mental health care '\n",
    "                       'available under your employer-provided coverage?',\n",
    "                       'Has your employer ever formally discussed '\n",
    "                       'mental health (for example, as part of a '\n",
    "                       'wellness campaign or other official communication)?',\n",
    "                       'Does your employer offer resources '\n",
    "                       'to learn more about mental health '\n",
    "                       'concerns and options for seeking help?',\n",
    "                       'Is your anonymity protected if you choose to take '\n",
    "                       'advantage of mental health or substance abuse '\n",
    "                       'treatment resources provided by your employer?',\n",
    "                       'If a mental health issue prompted you to request '\n",
    "                       'a medical leave from work, '\n",
    "                       'asking for that leave would be:',\n",
    "                       'Would you feel comfortable discussing a mental health '\n",
    "                       'disorder with your coworkers?',\n",
    "                       'Would you feel comfortable discussing a mental health '\n",
    "                       'disorder with your direct supervisor(s)?',\n",
    "                       'Would you bring up a mental health issue with '\n",
    "                       'a potential employer in an interview?',\n",
    "                       'Would you be willing to bring up a physical health '\n",
    "                       'issue with a potential employer in an interview?']]\n",
    "    df_2016['year'] = 2016\n",
    "\n",
    "    # Match the column names\n",
    "    df_2016.columns = ['Age', 'Country', 'state', 'self_employed',\n",
    "                       'family_history', 'treatment', 'work_interfere',\n",
    "                       'no_employees', 'tech_company', 'benefits',\n",
    "                       'care_options', 'wellness_program', 'seek_help',\n",
    "                       'anonymity', 'leave', 'coworkers', 'supervisor',\n",
    "                       'mental_health_interview', 'phys_health_interview',\n",
    "                       'year']\n",
    "\n",
    "    # Match the answer/value\n",
    "    df_2016[['self_employed', 'treatment', 'tech_company']] = (\n",
    "        df_2016[['self_employed', 'treatment', 'tech_company']]\n",
    "        .replace([1, 0], ['Yes', 'No'])\n",
    "    )\n",
    "\n",
    "    # Cleaning 2019 dataset.\n",
    "    df_2019 = pd.read_csv('data/survey_19.csv')\n",
    "\n",
    "    # Select only common columns between three datasets.\n",
    "    df_2019 = df_2019[['What is your age?',\n",
    "                       'What country do you *live* in?',\n",
    "                       'What US state or territory do you *live* in?',\n",
    "                       '*Are you self-employed?*',\n",
    "                       'Do you have a family history of mental illness?',\n",
    "                       'Have you ever sought treatment for a mental health '\n",
    "                       'disorder from a mental health professional?',\n",
    "                       'If you have a mental health disorder, how often do '\n",
    "                       'you feel that it interferes with your work *when* '\n",
    "                       '_*NOT*_* being treated effectively '\n",
    "                       '(i.e., when you are experiencing symptoms)?*',\n",
    "                       'How many employees does '\n",
    "                       'your company or organization have?',\n",
    "                       'Is your employer primarily '\n",
    "                       'a tech company/organization?',\n",
    "                       'Does your employer provide mental health benefits '\n",
    "                       'as part of healthcare coverage?',\n",
    "                       'Do you know the options for '\n",
    "                       'mental health care available '\n",
    "                       'under your employer-provided health coverage?',\n",
    "                       'Has your employer ever formally discussed mental '\n",
    "                       'health (for example, as part of a wellness campaign '\n",
    "                       'or other official communication)?',\n",
    "                       'Does your employer offer resources to '\n",
    "                       'learn more about mental health disorders '\n",
    "                       'and options for seeking help?',\n",
    "                       'Is your anonymity protected if you choose to take '\n",
    "                       'advantage of mental health or substance abuse '\n",
    "                       'treatment resources provided by your employer?',\n",
    "                       'If a mental health issue prompted you to request a '\n",
    "                       'medical leave from work, how easy or difficult '\n",
    "                       'would it be to ask for that leave?',\n",
    "                       'Would you feel comfortable discussing a mental health '\n",
    "                       'issue with your coworkers?',\n",
    "                       'Would you feel comfortable discussing a mental health '\n",
    "                       'issue with your direct supervisor(s)?',\n",
    "                       'Would you bring up your *mental* health with a '\n",
    "                       'potential employer in an interview?',\n",
    "                       'Would you be willing to bring up a physical health '\n",
    "                       'issue with a potential employer in an interview?']]\n",
    "    df_2019['year'] = 2019\n",
    "\n",
    "    # Match the column names\n",
    "    df_2019.columns = ['Age', 'Country', 'state', 'self_employed',\n",
    "                       'family_history', 'treatment', 'work_interfere',\n",
    "                       'no_employees', 'tech_company', 'benefits',\n",
    "                       'care_options', 'wellness_program', 'seek_help',\n",
    "                       'anonymity', 'leave', 'coworkers', 'supervisor',\n",
    "                       'mental_health_interview', 'phys_health_interview',\n",
    "                       'year']\n",
    "\n",
    "    # Match the answer/value\n",
    "    df_2019[['self_employed', 'treatment', 'tech_company']] = (\n",
    "        df_2019[['self_employed', 'treatment', 'tech_company']]\n",
    "        .replace([True, False], ['Yes', 'No'])\n",
    "    )\n",
    "    df_2019[\"care_options\"].fillna('I am not sure', inplace=True)\n",
    "\n",
    "    # Merge the three datasets.\n",
    "    merged_df = pd.concat([df_2014, df_2016, df_2019])\n",
    "    merged_df = merged_df.replace({'state': {'Illinois': 'IL',\n",
    "                                             'Tennessee': 'TN',\n",
    "                                             'Virginia': 'VA',\n",
    "                                             'California': 'CA',\n",
    "                                             'Kentucky': 'KY',\n",
    "                                             'Oregon': 'OR',\n",
    "                                             'Pennsylvania': 'PA',\n",
    "                                             'New Jersey': 'NJ',\n",
    "                                             'Georgia': 'GA',\n",
    "                                             'Washington': 'WA',\n",
    "                                             'New York': 'NY',\n",
    "                                             'Indiana': 'IN',\n",
    "                                             'Minnesota': 'MN',\n",
    "                                             'West Virginia': 'WV',\n",
    "                                             'Florida': 'FL',\n",
    "                                             'Massachusetts': 'MA',\n",
    "                                             'North Dakota': 'ND',\n",
    "                                             'Texas': 'TX',\n",
    "                                             'Maryland': 'MD',\n",
    "                                             'Wisconsin': 'WI',\n",
    "                                             'Michigan': 'MI',\n",
    "                                             'Vermont': 'VT',\n",
    "                                             'North Carolina': 'NC',\n",
    "                                             'Kansas': 'KS',\n",
    "                                             'District of Columbia': 'DC',\n",
    "                                             'Nevada': 'NV', 'Utah': 'UT',\n",
    "                                             'Connecticut': 'CT',\n",
    "                                             'Colorado': 'CO',\n",
    "                                             'Ohio': 'OH',\n",
    "                                             'Iowa': 'IA',\n",
    "                                             'South Dakota': 'SD',\n",
    "                                             'Nebraska': 'NE',\n",
    "                                             'Maine': 'ME',\n",
    "                                             'Missouri': 'MO',\n",
    "                                             'Arizona': 'AZ',\n",
    "                                             'Oklahoma': 'OK',\n",
    "                                             'Idaho': 'ID',\n",
    "                                             'Rhode Island': 'RI',\n",
    "                                             'Alabama': 'AL',\n",
    "                                             'Louisiana': 'LA',\n",
    "                                             'South Carolina': 'SC',\n",
    "                                             'New Hampshire': 'NH',\n",
    "                                             'New Mexico': 'NM',\n",
    "                                             'Montana': 'MT',\n",
    "                                             'Alaska': 'AK',\n",
    "                                             'Delaware': 'DE',\n",
    "                                             'Wyoming': 'WY'}})\n",
    "\n",
    "    return merged_df"
   ]
  },
  {
   "cell_type": "code",
   "execution_count": 5,
   "metadata": {},
   "outputs": [],
   "source": [
    "import plotly.graph_objects as go\n",
    "\n",
    "def plot_treatment_by_state(dataframe):\n",
    "    data = dataframe.dropna()\n",
    "    map_data = data[['state','treatment']]\n",
    "    map_data['treatment'] = map_data['treatment'].replace({'Yes': 1, 'No': 0})\n",
    "\n",
    "    map_data['treatment'] = map_data['treatment'].astype(int)\n",
    "    map_data = map_data.groupby('state')['treatment'].sum().reset_index()\n",
    "    \n",
    "    fig = go.Figure(data=go.Choropleth(\n",
    "        locations=map_data['state'], # Spatial coordinates\n",
    "        z = map_data['treatment'].astype(float), # Data to be color-coded\n",
    "        locationmode = 'USA-states', # set of locations match entries in `locations`\n",
    "        colorscale = 'Blues',\n",
    "        colorbar_title = \"Treatment Rate\",\n",
    "    ))\n",
    "\n",
    "    fig.update_layout(\n",
    "        title_text = 'Mental Health Treatment Seeking by State: Exploring the Impact of Location on Help-Seeking Behaviors',\n",
    "        geo_scope='usa', \n",
    "    )\n",
    "\n",
    "    fig.show()"
   ]
  },
  {
   "cell_type": "code",
   "execution_count": 7,
   "metadata": {},
   "outputs": [],
   "source": [
    "import plotly.express as px\n",
    "import pandas as pd\n",
    "import plotly.io as pio\n",
    "\n",
    "\n",
    "def plot_help_seeking_by_company_size(dataframe):\n",
    "    pio.renderers.default = 'browser'\n",
    "    data = dataframe.dropna()\n",
    "    groups = ['1-5', '6-25', '26-100', '100-500', '500-1000', 'More than 1000']\n",
    "    emp_data = data[['no_employees', 'seek_help']]\n",
    "\n",
    "    # Clean data\n",
    "    data = data[data[\"seek_help\"].isin([\"Yes\", \"No\", \"I don't know\"])]\n",
    "\n",
    "    # Create bar chart with color-coded bars\n",
    "    fig = px.bar(data, \n",
    "                 x=\"no_employees\", \n",
    "                 color=\"seek_help\", \n",
    "                 title=\"Mental Health Help-Seeking by Company Size\",\n",
    "                 labels={\"no_employees\": \"Number of Employees\", \"seek_help\": \"Mental Health Help-Seeking\"},\n",
    "                 color_discrete_map={\"Yes\": \"#3D9970\", \"No\": \"#FF4136\", \"Don't know\": \"#FF851B\"},\n",
    "                 category_orders={\"no_employees\": groups})\n",
    "\n",
    "    # Adjust layout\n",
    "    fig.update_layout(showlegend=True, legend_title=\"Does your employer provide mental health resources?\")\n",
    "    fig.update_xaxes(title=\"Company Size (Num. of Employees per Company)\")\n",
    "    fig.update_yaxes(title=\"Count\")\n",
    "    fig.show()"
   ]
  },
  {
   "cell_type": "code",
   "execution_count": 4,
   "metadata": {},
   "outputs": [
    {
     "name": "stderr",
     "output_type": "stream",
     "text": [
      "/var/folders/ws/hc2yqys15jq5gdqhcyt47dvc0000gn/T/ipykernel_3188/3289542668.py:6: SettingWithCopyWarning: \n",
      "A value is trying to be set on a copy of a slice from a DataFrame.\n",
      "Try using .loc[row_indexer,col_indexer] = value instead\n",
      "\n",
      "See the caveats in the documentation: https://pandas.pydata.org/pandas-docs/stable/user_guide/indexing.html#returning-a-view-versus-a-copy\n",
      "  map_data['treatment'] = map_data['treatment'].replace({'Yes': 1, 'No': 0})\n",
      "/var/folders/ws/hc2yqys15jq5gdqhcyt47dvc0000gn/T/ipykernel_3188/3289542668.py:8: SettingWithCopyWarning: \n",
      "A value is trying to be set on a copy of a slice from a DataFrame.\n",
      "Try using .loc[row_indexer,col_indexer] = value instead\n",
      "\n",
      "See the caveats in the documentation: https://pandas.pydata.org/pandas-docs/stable/user_guide/indexing.html#returning-a-view-versus-a-copy\n",
      "  map_data['treatment'] = map_data['treatment'].astype(int)\n"
     ]
    },
    {
     "data": {
      "application/vnd.plotly.v1+json": {
       "config": {
        "plotlyServerURL": "https://plot.ly"
       },
       "data": [
        {
         "colorbar": {
          "title": {
           "text": "Treatment Rate"
          }
         },
         "colorscale": [
          [
           0,
           "rgb(247,251,255)"
          ],
          [
           0.125,
           "rgb(222,235,247)"
          ],
          [
           0.25,
           "rgb(198,219,239)"
          ],
          [
           0.375,
           "rgb(158,202,225)"
          ],
          [
           0.5,
           "rgb(107,174,214)"
          ],
          [
           0.625,
           "rgb(66,146,198)"
          ],
          [
           0.75,
           "rgb(33,113,181)"
          ],
          [
           0.875,
           "rgb(8,81,156)"
          ],
          [
           1,
           "rgb(8,48,107)"
          ]
         ],
         "locationmode": "USA-states",
         "locations": [
          "AK",
          "AL",
          "AZ",
          "CA",
          "CO",
          "CT",
          "DC",
          "DE",
          "FL",
          "GA",
          "IA",
          "ID",
          "IL",
          "IN",
          "KS",
          "KY",
          "LA",
          "MA",
          "MD",
          "ME",
          "MI",
          "MN",
          "MO",
          "MS",
          "MT",
          "NC",
          "ND",
          "NE",
          "NH",
          "NJ",
          "NM",
          "NV",
          "NY",
          "OH",
          "OK",
          "OR",
          "PA",
          "RI",
          "SC",
          "SD",
          "TN",
          "TX",
          "UT",
          "VA",
          "VT",
          "WA",
          "WI",
          "WV",
          "WY"
         ],
         "type": "choropleth",
         "z": [
          1,
          10,
          7,
          179,
          25,
          5,
          5,
          1,
          19,
          14,
          7,
          4,
          50,
          26,
          7,
          3,
          4,
          22,
          14,
          5,
          42,
          34,
          10,
          1,
          0,
          28,
          1,
          17,
          5,
          8,
          1,
          2,
          65,
          36,
          10,
          37,
          40,
          2,
          3,
          3,
          38,
          54,
          14,
          20,
          2,
          72,
          18,
          0,
          2
         ]
        }
       ],
       "layout": {
        "geo": {
         "scope": "usa"
        },
        "template": {
         "data": {
          "bar": [
           {
            "error_x": {
             "color": "#2a3f5f"
            },
            "error_y": {
             "color": "#2a3f5f"
            },
            "marker": {
             "line": {
              "color": "#E5ECF6",
              "width": 0.5
             },
             "pattern": {
              "fillmode": "overlay",
              "size": 10,
              "solidity": 0.2
             }
            },
            "type": "bar"
           }
          ],
          "barpolar": [
           {
            "marker": {
             "line": {
              "color": "#E5ECF6",
              "width": 0.5
             },
             "pattern": {
              "fillmode": "overlay",
              "size": 10,
              "solidity": 0.2
             }
            },
            "type": "barpolar"
           }
          ],
          "carpet": [
           {
            "aaxis": {
             "endlinecolor": "#2a3f5f",
             "gridcolor": "white",
             "linecolor": "white",
             "minorgridcolor": "white",
             "startlinecolor": "#2a3f5f"
            },
            "baxis": {
             "endlinecolor": "#2a3f5f",
             "gridcolor": "white",
             "linecolor": "white",
             "minorgridcolor": "white",
             "startlinecolor": "#2a3f5f"
            },
            "type": "carpet"
           }
          ],
          "choropleth": [
           {
            "colorbar": {
             "outlinewidth": 0,
             "ticks": ""
            },
            "type": "choropleth"
           }
          ],
          "contour": [
           {
            "colorbar": {
             "outlinewidth": 0,
             "ticks": ""
            },
            "colorscale": [
             [
              0,
              "#0d0887"
             ],
             [
              0.1111111111111111,
              "#46039f"
             ],
             [
              0.2222222222222222,
              "#7201a8"
             ],
             [
              0.3333333333333333,
              "#9c179e"
             ],
             [
              0.4444444444444444,
              "#bd3786"
             ],
             [
              0.5555555555555556,
              "#d8576b"
             ],
             [
              0.6666666666666666,
              "#ed7953"
             ],
             [
              0.7777777777777778,
              "#fb9f3a"
             ],
             [
              0.8888888888888888,
              "#fdca26"
             ],
             [
              1,
              "#f0f921"
             ]
            ],
            "type": "contour"
           }
          ],
          "contourcarpet": [
           {
            "colorbar": {
             "outlinewidth": 0,
             "ticks": ""
            },
            "type": "contourcarpet"
           }
          ],
          "heatmap": [
           {
            "colorbar": {
             "outlinewidth": 0,
             "ticks": ""
            },
            "colorscale": [
             [
              0,
              "#0d0887"
             ],
             [
              0.1111111111111111,
              "#46039f"
             ],
             [
              0.2222222222222222,
              "#7201a8"
             ],
             [
              0.3333333333333333,
              "#9c179e"
             ],
             [
              0.4444444444444444,
              "#bd3786"
             ],
             [
              0.5555555555555556,
              "#d8576b"
             ],
             [
              0.6666666666666666,
              "#ed7953"
             ],
             [
              0.7777777777777778,
              "#fb9f3a"
             ],
             [
              0.8888888888888888,
              "#fdca26"
             ],
             [
              1,
              "#f0f921"
             ]
            ],
            "type": "heatmap"
           }
          ],
          "heatmapgl": [
           {
            "colorbar": {
             "outlinewidth": 0,
             "ticks": ""
            },
            "colorscale": [
             [
              0,
              "#0d0887"
             ],
             [
              0.1111111111111111,
              "#46039f"
             ],
             [
              0.2222222222222222,
              "#7201a8"
             ],
             [
              0.3333333333333333,
              "#9c179e"
             ],
             [
              0.4444444444444444,
              "#bd3786"
             ],
             [
              0.5555555555555556,
              "#d8576b"
             ],
             [
              0.6666666666666666,
              "#ed7953"
             ],
             [
              0.7777777777777778,
              "#fb9f3a"
             ],
             [
              0.8888888888888888,
              "#fdca26"
             ],
             [
              1,
              "#f0f921"
             ]
            ],
            "type": "heatmapgl"
           }
          ],
          "histogram": [
           {
            "marker": {
             "pattern": {
              "fillmode": "overlay",
              "size": 10,
              "solidity": 0.2
             }
            },
            "type": "histogram"
           }
          ],
          "histogram2d": [
           {
            "colorbar": {
             "outlinewidth": 0,
             "ticks": ""
            },
            "colorscale": [
             [
              0,
              "#0d0887"
             ],
             [
              0.1111111111111111,
              "#46039f"
             ],
             [
              0.2222222222222222,
              "#7201a8"
             ],
             [
              0.3333333333333333,
              "#9c179e"
             ],
             [
              0.4444444444444444,
              "#bd3786"
             ],
             [
              0.5555555555555556,
              "#d8576b"
             ],
             [
              0.6666666666666666,
              "#ed7953"
             ],
             [
              0.7777777777777778,
              "#fb9f3a"
             ],
             [
              0.8888888888888888,
              "#fdca26"
             ],
             [
              1,
              "#f0f921"
             ]
            ],
            "type": "histogram2d"
           }
          ],
          "histogram2dcontour": [
           {
            "colorbar": {
             "outlinewidth": 0,
             "ticks": ""
            },
            "colorscale": [
             [
              0,
              "#0d0887"
             ],
             [
              0.1111111111111111,
              "#46039f"
             ],
             [
              0.2222222222222222,
              "#7201a8"
             ],
             [
              0.3333333333333333,
              "#9c179e"
             ],
             [
              0.4444444444444444,
              "#bd3786"
             ],
             [
              0.5555555555555556,
              "#d8576b"
             ],
             [
              0.6666666666666666,
              "#ed7953"
             ],
             [
              0.7777777777777778,
              "#fb9f3a"
             ],
             [
              0.8888888888888888,
              "#fdca26"
             ],
             [
              1,
              "#f0f921"
             ]
            ],
            "type": "histogram2dcontour"
           }
          ],
          "mesh3d": [
           {
            "colorbar": {
             "outlinewidth": 0,
             "ticks": ""
            },
            "type": "mesh3d"
           }
          ],
          "parcoords": [
           {
            "line": {
             "colorbar": {
              "outlinewidth": 0,
              "ticks": ""
             }
            },
            "type": "parcoords"
           }
          ],
          "pie": [
           {
            "automargin": true,
            "type": "pie"
           }
          ],
          "scatter": [
           {
            "fillpattern": {
             "fillmode": "overlay",
             "size": 10,
             "solidity": 0.2
            },
            "type": "scatter"
           }
          ],
          "scatter3d": [
           {
            "line": {
             "colorbar": {
              "outlinewidth": 0,
              "ticks": ""
             }
            },
            "marker": {
             "colorbar": {
              "outlinewidth": 0,
              "ticks": ""
             }
            },
            "type": "scatter3d"
           }
          ],
          "scattercarpet": [
           {
            "marker": {
             "colorbar": {
              "outlinewidth": 0,
              "ticks": ""
             }
            },
            "type": "scattercarpet"
           }
          ],
          "scattergeo": [
           {
            "marker": {
             "colorbar": {
              "outlinewidth": 0,
              "ticks": ""
             }
            },
            "type": "scattergeo"
           }
          ],
          "scattergl": [
           {
            "marker": {
             "colorbar": {
              "outlinewidth": 0,
              "ticks": ""
             }
            },
            "type": "scattergl"
           }
          ],
          "scattermapbox": [
           {
            "marker": {
             "colorbar": {
              "outlinewidth": 0,
              "ticks": ""
             }
            },
            "type": "scattermapbox"
           }
          ],
          "scatterpolar": [
           {
            "marker": {
             "colorbar": {
              "outlinewidth": 0,
              "ticks": ""
             }
            },
            "type": "scatterpolar"
           }
          ],
          "scatterpolargl": [
           {
            "marker": {
             "colorbar": {
              "outlinewidth": 0,
              "ticks": ""
             }
            },
            "type": "scatterpolargl"
           }
          ],
          "scatterternary": [
           {
            "marker": {
             "colorbar": {
              "outlinewidth": 0,
              "ticks": ""
             }
            },
            "type": "scatterternary"
           }
          ],
          "surface": [
           {
            "colorbar": {
             "outlinewidth": 0,
             "ticks": ""
            },
            "colorscale": [
             [
              0,
              "#0d0887"
             ],
             [
              0.1111111111111111,
              "#46039f"
             ],
             [
              0.2222222222222222,
              "#7201a8"
             ],
             [
              0.3333333333333333,
              "#9c179e"
             ],
             [
              0.4444444444444444,
              "#bd3786"
             ],
             [
              0.5555555555555556,
              "#d8576b"
             ],
             [
              0.6666666666666666,
              "#ed7953"
             ],
             [
              0.7777777777777778,
              "#fb9f3a"
             ],
             [
              0.8888888888888888,
              "#fdca26"
             ],
             [
              1,
              "#f0f921"
             ]
            ],
            "type": "surface"
           }
          ],
          "table": [
           {
            "cells": {
             "fill": {
              "color": "#EBF0F8"
             },
             "line": {
              "color": "white"
             }
            },
            "header": {
             "fill": {
              "color": "#C8D4E3"
             },
             "line": {
              "color": "white"
             }
            },
            "type": "table"
           }
          ]
         },
         "layout": {
          "annotationdefaults": {
           "arrowcolor": "#2a3f5f",
           "arrowhead": 0,
           "arrowwidth": 1
          },
          "autotypenumbers": "strict",
          "coloraxis": {
           "colorbar": {
            "outlinewidth": 0,
            "ticks": ""
           }
          },
          "colorscale": {
           "diverging": [
            [
             0,
             "#8e0152"
            ],
            [
             0.1,
             "#c51b7d"
            ],
            [
             0.2,
             "#de77ae"
            ],
            [
             0.3,
             "#f1b6da"
            ],
            [
             0.4,
             "#fde0ef"
            ],
            [
             0.5,
             "#f7f7f7"
            ],
            [
             0.6,
             "#e6f5d0"
            ],
            [
             0.7,
             "#b8e186"
            ],
            [
             0.8,
             "#7fbc41"
            ],
            [
             0.9,
             "#4d9221"
            ],
            [
             1,
             "#276419"
            ]
           ],
           "sequential": [
            [
             0,
             "#0d0887"
            ],
            [
             0.1111111111111111,
             "#46039f"
            ],
            [
             0.2222222222222222,
             "#7201a8"
            ],
            [
             0.3333333333333333,
             "#9c179e"
            ],
            [
             0.4444444444444444,
             "#bd3786"
            ],
            [
             0.5555555555555556,
             "#d8576b"
            ],
            [
             0.6666666666666666,
             "#ed7953"
            ],
            [
             0.7777777777777778,
             "#fb9f3a"
            ],
            [
             0.8888888888888888,
             "#fdca26"
            ],
            [
             1,
             "#f0f921"
            ]
           ],
           "sequentialminus": [
            [
             0,
             "#0d0887"
            ],
            [
             0.1111111111111111,
             "#46039f"
            ],
            [
             0.2222222222222222,
             "#7201a8"
            ],
            [
             0.3333333333333333,
             "#9c179e"
            ],
            [
             0.4444444444444444,
             "#bd3786"
            ],
            [
             0.5555555555555556,
             "#d8576b"
            ],
            [
             0.6666666666666666,
             "#ed7953"
            ],
            [
             0.7777777777777778,
             "#fb9f3a"
            ],
            [
             0.8888888888888888,
             "#fdca26"
            ],
            [
             1,
             "#f0f921"
            ]
           ]
          },
          "colorway": [
           "#636efa",
           "#EF553B",
           "#00cc96",
           "#ab63fa",
           "#FFA15A",
           "#19d3f3",
           "#FF6692",
           "#B6E880",
           "#FF97FF",
           "#FECB52"
          ],
          "font": {
           "color": "#2a3f5f"
          },
          "geo": {
           "bgcolor": "white",
           "lakecolor": "white",
           "landcolor": "#E5ECF6",
           "showlakes": true,
           "showland": true,
           "subunitcolor": "white"
          },
          "hoverlabel": {
           "align": "left"
          },
          "hovermode": "closest",
          "mapbox": {
           "style": "light"
          },
          "paper_bgcolor": "white",
          "plot_bgcolor": "#E5ECF6",
          "polar": {
           "angularaxis": {
            "gridcolor": "white",
            "linecolor": "white",
            "ticks": ""
           },
           "bgcolor": "#E5ECF6",
           "radialaxis": {
            "gridcolor": "white",
            "linecolor": "white",
            "ticks": ""
           }
          },
          "scene": {
           "xaxis": {
            "backgroundcolor": "#E5ECF6",
            "gridcolor": "white",
            "gridwidth": 2,
            "linecolor": "white",
            "showbackground": true,
            "ticks": "",
            "zerolinecolor": "white"
           },
           "yaxis": {
            "backgroundcolor": "#E5ECF6",
            "gridcolor": "white",
            "gridwidth": 2,
            "linecolor": "white",
            "showbackground": true,
            "ticks": "",
            "zerolinecolor": "white"
           },
           "zaxis": {
            "backgroundcolor": "#E5ECF6",
            "gridcolor": "white",
            "gridwidth": 2,
            "linecolor": "white",
            "showbackground": true,
            "ticks": "",
            "zerolinecolor": "white"
           }
          },
          "shapedefaults": {
           "line": {
            "color": "#2a3f5f"
           }
          },
          "ternary": {
           "aaxis": {
            "gridcolor": "white",
            "linecolor": "white",
            "ticks": ""
           },
           "baxis": {
            "gridcolor": "white",
            "linecolor": "white",
            "ticks": ""
           },
           "bgcolor": "#E5ECF6",
           "caxis": {
            "gridcolor": "white",
            "linecolor": "white",
            "ticks": ""
           }
          },
          "title": {
           "x": 0.05
          },
          "xaxis": {
           "automargin": true,
           "gridcolor": "white",
           "linecolor": "white",
           "ticks": "",
           "title": {
            "standoff": 15
           },
           "zerolinecolor": "white",
           "zerolinewidth": 2
          },
          "yaxis": {
           "automargin": true,
           "gridcolor": "white",
           "linecolor": "white",
           "ticks": "",
           "title": {
            "standoff": 15
           },
           "zerolinecolor": "white",
           "zerolinewidth": 2
          }
         }
        },
        "title": {
         "text": "Mental Health Treatment Seeking by State: Exploring the Impact of Location on Help-Seeking Behaviors"
        }
       }
      }
     },
     "metadata": {},
     "output_type": "display_data"
    }
   ],
   "source": [
    "import pandas as pd\n",
    "def main():\n",
    "    merged_df = merge_data()\n",
    "    data = merged_df[['Age', 'self_employed', 'family_history',\n",
    "                      'no_employees', 'tech_company', 'wellness_program',\n",
    "                      'treatment']].dropna()\n",
    "    features = data.loc[:, data.columns != 'treatment']\n",
    "    features = pd.get_dummies(features)\n",
    "    labels = data['treatment']\n",
    "\n",
    "    plot_treatment_by_state(merged_df)\n",
    "    plot_help_seeking_by_company_size(merged_df)\n",
    "\n",
    "\n",
    "if __name__ == '__main__':\n",
    "    main()\n"
   ]
  }
 ],
 "metadata": {
  "kernelspec": {
   "display_name": "cse163",
   "language": "python",
   "name": "python3"
  },
  "language_info": {
   "codemirror_mode": {
    "name": "ipython",
    "version": 3
   },
   "file_extension": ".py",
   "mimetype": "text/x-python",
   "name": "python",
   "nbconvert_exporter": "python",
   "pygments_lexer": "ipython3",
   "version": "3.9.16"
  },
  "orig_nbformat": 4
 },
 "nbformat": 4,
 "nbformat_minor": 2
}
